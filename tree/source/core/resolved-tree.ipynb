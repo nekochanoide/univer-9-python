{
 "cells": [
  {
   "cell_type": "markdown",
   "metadata": {},
   "source": [
    "# Решающее дерево"
   ]
  },
  {
   "cell_type": "markdown",
   "metadata": {},
   "source": [
    "Отметим, что решающее дерево состоит из вершин, в которых записывает некоторое условие, а в листах дерева - прогноз. Условия во внутренних вершинах выбираются простыми. Наиболее частый вариант - проверка лежит ли значение некоторого признака $x^j$ левее порога $t$:\n",
    "\n",
    "$[x^j \\leq t]$\n",
    "\n",
    "Легко заметить, что такое условие зависит только от одного признака. Прогноз в листе является вещественным числом, если решается задача регрессии. Если же решается задача классификации, то в качестве прогноза выступает или класс или распределение вероятностей классов.\n",
    "\n",
    "Запишем некоторую функцию ошибки следующим образом: есть набор данных $X_m$, есть номер рассматриваемого признака $j$ и есть порог $t$.\n",
    "\n",
    "$L(X_m, j, t) \\rightarrow \\underset{j,t}{min}$\n",
    "\n",
    "Осуществим перебор всех возможных признаков $j$ и порогов $t$ для этих признаков. Каждый раз исходное множество будет разбиваться на два подмножества:\n",
    "\n",
    "$X_l = \\{x \\in X_m | [ x^j \\leq t ] \\}$ и $X_к = \\{x \\in X_m | [ x^j > t ] \\}$\n",
    "\n",
    "Такую процедуру можно продолжить для каждого получившегося множества (рекурсивно вызывать функцию деления для получающихся подмножеств).\n",
    "\n",
    "Необходимо отметить, что если вершина была объявлена листом, необходимо сделать прогноз для этого листа. Для задачи регрессии берется среднее значение по этой выборке,\n",
    "для задачи классификации возвращается тот класс, которые наиболее популярен в выборке. Можно указывать вероятность классов в листе.\n",
    "\n",
    "Для каждого разбиения необходимо расчитывать функцию потерь:\n",
    "\n",
    "$L(X_m, j, t) = \\frac{|X_l|}{|X_m|}H(X_l) + \\frac{|X_r|}{|X_m|}H(X_r)$,\n",
    "\n",
    "где $H(X)=\\sum\\limits_{k=1}^{K} p_k(1 - p_k)$ - критерий информативности Джинни.\n",
    "\n",
    "$p_k$ - доля объектов класса $k$ в выборке X:\n",
    "\n",
    "$p_k=\\frac{1}{|X|}\\sum\\limits_{i \\in X}{[y_i = k]}$\n",
    "\n",
    "В задаче работаем только с числовыми данными и строим дерево классификации.\n",
    "\n",
    "Данные сгенерированы случайным образом."
   ]
  },
  {
   "cell_type": "code",
   "execution_count": 22,
   "metadata": {
    "scrolled": true
   },
   "outputs": [
    {
     "data": {
      "text/plain": [
       "<matplotlib.collections.PathCollection at 0x1c5cc337b48>"
      ]
     },
     "execution_count": 22,
     "metadata": {},
     "output_type": "execute_result"
    },
    {
     "data": {
      "image/png": "[encoded data removed]",
      "text/plain": [
       "<Figure size 432x288 with 1 Axes>"
      ]
     },
     "metadata": {
      "needs_background": "light"
     },
     "output_type": "display_data"
    }
   ],
   "source": [
    "from sklearn.datasets import make_blobs, make_moons\n",
    "import matplotlib.pyplot as plt\n",
    "import numpy as np\n",
    "import operator\n",
    "%matplotlib inline\n",
    "\n",
    "x, y = make_moons(n_samples=100, noise=0.1)\n",
    "plt.scatter(x[:,0], x[:,1], c = y)"
   ]
  },
  {
   "cell_type": "markdown",
   "metadata": {},
   "source": [
    "## Задание\n",
    "\n",
    "Напишите класс дерева, который реализует метод train, который получает на вход матрицу данных ($x$) и целевые переменные ($y$), на выходе функция возвращает дерево в виде словаря в каждом случае записывается номер признака ($i$), порог разбиения($t$), значение в листовой вершине слева ($y_l$) и значение в листовой вершине справа ($y_r$). Вместо значения в листовой вершине может содержаться следующий словарь с теми же ключами и так далее.\n",
    "\n",
    "Необходимо учесть:\n",
    "\n",
    "1. Возможность строить дерево строго определенной глубины и возможность указать максимальное количество объектов в листовой вершине.\n",
    "2. Пороги разбиения должны лежать строго по середине между ближайшими обектами.\n",
    "3. Разбиений не требуется, если в получившемся множестве находятся объекты одного класса.\n",
    "4. Количество различных классов объектов в целевой переменной может быть больше двух.\n"
   ]
  },
  {
   "cell_type": "code",
   "execution_count": 2,
   "metadata": {},
   "outputs": [],
   "source": [
    "class Tree_element:\n",
    "    def add_node(self, i, t, side):\n",
    "        if type(self) is Leaf:\n",
    "            raise ValueError('Attempt to add NODE to leaf')\n",
    "        if self.subs[side] is not None:\n",
    "            raise Exception('Element already had {0}-sided sub'.format(side))\n",
    "        self.subs[side] = Node(i, t, self)\n",
    "        \n",
    "    def add_leaf(self, y_hat, side):\n",
    "        if type(self) is Leaf:\n",
    "            raise ValueError('Attempt to add LEAF to leaf')\n",
    "        if self.subs[side] is not None:\n",
    "            raise Exception('Element already had {0}-sided sub'.format(side))\n",
    "        self.subs[side] = Leaf(y_hat, self)\n",
    "        "
   ]
  },
  {
   "cell_type": "code",
   "execution_count": 3,
   "metadata": {},
   "outputs": [],
   "source": [
    "class Root(Tree_element):\n",
    "    def __init__(self, i, t):\n",
    "        self.i = i\n",
    "        self.t = t\n",
    "        self.subs = {'l':None, 'r':None}\n",
    "        self.depth = 0\n",
    "\n",
    "class Node(Tree_element):\n",
    "    def __init__(self, i, t, parent):\n",
    "        self.i = i\n",
    "        self.t = t\n",
    "        self.subs = {'l':None, 'r':None}\n",
    "        self.parent = parent\n",
    "        self.depth = parent.depth + 1\n",
    "\n",
    "\n",
    "class Leaf(Tree_element):\n",
    "    def __init__(self, y_hat, parent):\n",
    "        self.y_hat = y_hat\n",
    "        self.parent = parent\n",
    "        self.depth = parent.depth + 1\n",
    "        "
   ]
  },
  {
   "cell_type": "code",
   "execution_count": 4,
   "metadata": {},
   "outputs": [],
   "source": [
    "def calc_leaf_impurity(classes_count):\n",
    "    _sum = 0\n",
    "    for key in classes_count:\n",
    "        _sum += classes_count[key]\n",
    "    impurity = 1\n",
    "    for key in classes_count:\n",
    "        impurity -= (classes_count[key]/_sum)**2\n",
    "    return impurity\n"
   ]
  },
  {
   "cell_type": "code",
   "execution_count": 5,
   "metadata": {},
   "outputs": [],
   "source": [
    "def calc_node_impurity(r, l, count, index):\n",
    "    right_count = count - index - 1\n",
    "    left_count = count - right_count\n",
    "    return (right_count/count)*r + (left_count/count)*l\n"
   ]
  },
  {
   "cell_type": "code",
   "execution_count": 6,
   "metadata": {},
   "outputs": [],
   "source": [
    "def calc_gini(x, y):\n",
    "    if len(x) == 1:\n",
    "        return (0,0,0)\n",
    "    ginis = [] #list of results (impurity, feature, threshold)\n",
    "    classes = [] #collect all classes\n",
    "    for yth in y:\n",
    "        if yth not in classes:\n",
    "            classes.append(yth)\n",
    "    classes_count = {} #count instances classes\n",
    "    for _class in classes:\n",
    "        classes_count[_class] = 0            \n",
    "    for feature_number in range(x.shape[1]): #for each feature\n",
    "        uns = [] #unsorted list\n",
    "        for item_index in range(x.shape[0]):\n",
    "            uns.append((x[item_index,feature_number],y[item_index]))\n",
    "        s = sorted(uns) #sorted by single feature\n",
    "        s = np.array(s)\n",
    "        for i in range(len(s) - 1): #for each threshold\n",
    "            threshold = (s[i,0] + s[i+1,0])*.5\n",
    "            for q in range(i+1): #calc left leaf ipmurity\n",
    "                classes_count[s[q,1]] += 1\n",
    "            l_leaf_impurity = calc_leaf_impurity(classes_count)\n",
    "            for key in classes_count: #clear for second leaf\n",
    "                classes_count[key] = 0\n",
    "            for q in range(i+1,len(s)): #calc right leaf impurity\n",
    "                classes_count[s[q,1]] += 1\n",
    "            r_leaf_impurity = calc_leaf_impurity(classes_count)\n",
    "            # added clearing\n",
    "            for key in classes_count: #clear for second leaf\n",
    "                classes_count[key] = 0\n",
    "            # added clearing\n",
    "            impurity = calc_node_impurity(r_leaf_impurity,l_leaf_impurity,x.shape[0],i)\n",
    "            ginis.append((impurity, feature_number, threshold))\n",
    "    gini = sorted(ginis)[0]\n",
    "    return gini\n"
   ]
  },
  {
   "cell_type": "code",
   "execution_count": 7,
   "metadata": {},
   "outputs": [],
   "source": [
    "def set_to_array(_set, front):\n",
    "    _set = np.array(_set)\n",
    "    x = _set[:,0:front]\n",
    "    y = _set[:,front]\n",
    "    return x, y\n"
   ]
  },
  {
   "cell_type": "code",
   "execution_count": 8,
   "metadata": {},
   "outputs": [],
   "source": [
    "def divide_set(x, y, feature, threshold):\n",
    "    tuple_list = []\n",
    "    for i in range(len(x)):\n",
    "        tuple_list.append(tuple(x[i])+(y[i],))\n",
    "    s = sorted(tuple_list, key=lambda x :[feature])\n",
    "    s = np.array(s)\n",
    "    l_set, r_set = [], []\n",
    "    for i in range(len(s)):\n",
    "        if s[i,feature] < threshold:\n",
    "            l_set.append(s[i])\n",
    "        else:\n",
    "            r_set.append(s[i])\n",
    "    left = set_to_array(l_set, x.shape[1])\n",
    "    right = set_to_array(r_set, x.shape[1])\n",
    "    return left, right\n",
    "        "
   ]
  },
  {
   "cell_type": "code",
   "execution_count": 9,
   "metadata": {},
   "outputs": [],
   "source": [
    "def is_pure(y):\n",
    "    classes = []\n",
    "    for yth in y:\n",
    "        if yth not in classes:\n",
    "            classes.append(yth)\n",
    "    if len(classes) > 1:\n",
    "        return False\n",
    "    else:\n",
    "        return True\n"
   ]
  },
  {
   "cell_type": "code",
   "execution_count": 10,
   "metadata": {},
   "outputs": [],
   "source": [
    "def find_dominant(y):\n",
    "    classes_count = {}\n",
    "    for yth in range(len(y)):\n",
    "        if yth not in classes_count:\n",
    "            classes_count[int(y[yth])] = 0\n",
    "    for i in range(len(y)):\n",
    "        classes_count[int(y[i])] += 1\n",
    "    return max(classes_count.items(), key=operator.itemgetter(1))[0]\n"
   ]
  },
  {
   "cell_type": "code",
   "execution_count": 11,
   "metadata": {},
   "outputs": [],
   "source": [
    "class Tree:    \n",
    "    calc_gini = calc_gini\n",
    "    def __init__(self, depth=1, max_num_leaf=None):\n",
    "        self.is_trained = False\n",
    "        self.depth = depth\n",
    "        self.max_num_leaf = max_num_leaf\n",
    "        self.root = None\n",
    "        self.max_num_leaf = max_num_leaf\n",
    "        self.logs = []\n",
    "        \n",
    "    def train(self, x, y, parent=None, side=None):\n",
    "        _, feature, threshold = calc_gini(x, y)\n",
    "        if parent is None:\n",
    "#             if self.root is None:\n",
    "#                 raise Exception('No parent PepeHands')\n",
    "            self.root = Root(feature, threshold)\n",
    "            print('root created')\n",
    "            l, r = divide_set(x, y, feature, threshold)\n",
    "            self.train(l[0], l[1], self.root,'l')\n",
    "            self.train(r[0], r[1], self.root,'r')\n",
    "        elif is_pure(y):\n",
    "            parent.add_leaf(y[0], side)\n",
    "            print('was pure at {0}'.format(parent.subs[side]))\n",
    "        elif self.max_num_leaf is not None:\n",
    "            if self.max_num_leaf > len(x) and parent.depth+1 < self.depth:\n",
    "                parent.add_leaf(y[0], side)\n",
    "            else:\n",
    "                parent.add_node(feature, threshold, side)\n",
    "                l, r = divide_set(x, y, feature, threshold)\n",
    "                self.train(l[0], l[1], parent.subs[side],'l')\n",
    "                self.train(r[0], r[1], parent.subs[side],'r')\n",
    "        elif parent.depth+1 < self.depth:\n",
    "            parent.add_node(feature, threshold, side)\n",
    "            l, r = divide_set(x, y, feature, threshold)\n",
    "            self.train(l[0], l[1], parent.subs[side],'l')\n",
    "            self.train(r[0], r[1], parent.subs[side],'r')\n",
    "        else:\n",
    "            dominant = find_dominant(y)\n",
    "            parent.add_leaf(dominant, side)\n",
    "            self.logs.append((y.copy(), parent, parent.subs[side], side, dominant))\n",
    "        self.is_trained = True\n",
    "    \n",
    "    def predict(self, x):\n",
    "        if not self.is_trained:\n",
    "            raise Exception('No train exception, have to train before predict, u dummy dumb dumb :)')\n",
    "        y_hat = []\n",
    "        print(len(x))\n",
    "        for i in range(len(x)):\n",
    "            elem = self.root\n",
    "            while True:\n",
    "                if x[i,elem.i] < elem.t:\n",
    "                    if type(elem.subs['l']) is Leaf:\n",
    "                        y_hat.append(elem.subs['l'].y_hat)\n",
    "                        break\n",
    "                    else:\n",
    "                        elem = elem.subs['l']\n",
    "                else:\n",
    "                    if type(elem.subs['r']) is Leaf:\n",
    "                        y_hat.append(elem.subs['r'].y_hat)\n",
    "                        break\n",
    "                    else:\n",
    "                        elem = elem.subs['r']\n",
    "        return np.array(y_hat)\n",
    "    "
   ]
  },
  {
   "cell_type": "markdown",
   "metadata": {},
   "source": [
    "# Решающее дерево"
   ]
  },
  {
   "cell_type": "markdown",
   "metadata": {},
   "source": [
    "Постройте решающее дерево с глубиной 1, 2 и 3.\n",
    "\n",
    "Визуализируйте получившиеся результаты классификатора на плоскости. Для этого воспользуйтесь кодом ниже, чтобы построить поверхность. $t$ - порог разбиения $i$ - номер признака."
   ]
  },
  {
   "cell_type": "code",
   "execution_count": 12,
   "metadata": {},
   "outputs": [
    {
     "name": "stdout",
     "output_type": "stream",
     "text": [
      "root created\n",
      "was pure at <__main__.Leaf object at 0x000001C5CB07C188>\n"
     ]
    }
   ],
   "source": [
    "tree1 = Tree(1)\n",
    "tree1.train(x,y)"
   ]
  },
  {
   "cell_type": "code",
   "execution_count": 13,
   "metadata": {
    "scrolled": true
   },
   "outputs": [
    {
     "name": "stdout",
     "output_type": "stream",
     "text": [
      "49920\n"
     ]
    },
    {
     "data": {
      "text/plain": [
       "<matplotlib.collections.PathCollection at 0x1c5cb0a5988>"
      ]
     },
     "execution_count": 13,
     "metadata": {},
     "output_type": "execute_result"
    },
    {
     "data": {
      "image/png": "[encoded data removed]",
      "text/plain": [
       "<Figure size 432x288 with 1 Axes>"
      ]
     },
     "metadata": {
      "needs_background": "light"
     },
     "output_type": "display_data"
    }
   ],
   "source": [
    "h = .02\n",
    "x0_min, x0_max = np.min(x[:,0]) - 1, np.max(x[:,0]) + 1\n",
    "x1_min, x1_max = np.min(x[:,1]) - 1, np.max(x[:,1]) + 1\n",
    "xx0, xx1 = np.meshgrid(np.arange(x0_min, x0_max, h),\n",
    "                         np.arange(x1_min, x1_max, h))\n",
    "\n",
    "Z = tree1.predict((np.stack((xx0.ravel(),xx1.ravel())).transpose()))\n",
    "\n",
    "Z = Z.reshape(xx0.shape)\n",
    "cm = plt.cm.RdBu\n",
    "plt.contourf(xx0, xx1, Z, cmap=cm, alpha=.8)\n",
    "plt.scatter(x[:,0], x[:,1], c = y)\n"
   ]
  },
  {
   "cell_type": "code",
   "execution_count": 14,
   "metadata": {},
   "outputs": [
    {
     "name": "stdout",
     "output_type": "stream",
     "text": [
      "root created\n",
      "was pure at <__main__.Leaf object at 0x000001C5CC0D9948>\n",
      "was pure at <__main__.Leaf object at 0x000001C5CC0D9C48>\n"
     ]
    }
   ],
   "source": [
    "tree2 = Tree(2)\n",
    "tree2.train(x,y)"
   ]
  },
  {
   "cell_type": "code",
   "execution_count": 15,
   "metadata": {},
   "outputs": [
    {
     "name": "stdout",
     "output_type": "stream",
     "text": [
      "49920\n"
     ]
    },
    {
     "data": {
      "text/plain": [
       "<matplotlib.collections.PathCollection at 0x1c5cc10a808>"
      ]
     },
     "execution_count": 15,
     "metadata": {},
     "output_type": "execute_result"
    },
    {
     "data": {
      "image/png": "[encoded data removed]",
      "text/plain": [
       "<Figure size 432x288 with 1 Axes>"
      ]
     },
     "metadata": {
      "needs_background": "light"
     },
     "output_type": "display_data"
    }
   ],
   "source": [
    "h = .02\n",
    "x0_min, x0_max = np.min(x[:,0]) - 1, np.max(x[:,0]) + 1\n",
    "x1_min, x1_max = np.min(x[:,1]) - 1, np.max(x[:,1]) + 1\n",
    "xx0, xx1 = np.meshgrid(np.arange(x0_min, x0_max, h),\n",
    "                         np.arange(x1_min, x1_max, h))\n",
    "\n",
    "Z = tree2.predict((np.stack((xx0.ravel(),xx1.ravel())).transpose()))\n",
    "\n",
    "Z = Z.reshape(xx0.shape)\n",
    "cm = plt.cm.RdBu\n",
    "plt.contourf(xx0, xx1, Z, cmap=cm, alpha=.8)\n",
    "plt.scatter(x[:,0], x[:,1], c = y)\n"
   ]
  },
  {
   "cell_type": "code",
   "execution_count": 23,
   "metadata": {
    "scrolled": false
   },
   "outputs": [
    {
     "name": "stdout",
     "output_type": "stream",
     "text": [
      "root created\n",
      "was pure at <__main__.Leaf object at 0x000001C5CC1A4A08>\n",
      "was pure at <__main__.Leaf object at 0x000001C5CC15CB48>\n",
      "was pure at <__main__.Leaf object at 0x000001C5CC310388>\n",
      "was pure at <__main__.Leaf object at 0x000001C5CC310C88>\n"
     ]
    }
   ],
   "source": [
    "tree3 = Tree(3)\n",
    "tree3.train(x,y)"
   ]
  },
  {
   "cell_type": "code",
   "execution_count": 24,
   "metadata": {
    "scrolled": true
   },
   "outputs": [
    {
     "name": "stdout",
     "output_type": "stream",
     "text": [
      "47802\n"
     ]
    },
    {
     "data": {
      "text/plain": [
       "<matplotlib.collections.PathCollection at 0x1c5cc3b1048>"
      ]
     },
     "execution_count": 24,
     "metadata": {},
     "output_type": "execute_result"
    },
    {
     "data": {
      "image/png": "[encoded data removed]",
      "text/plain": [
       "<Figure size 432x288 with 1 Axes>"
      ]
     },
     "metadata": {
      "needs_background": "light"
     },
     "output_type": "display_data"
    }
   ],
   "source": [
    "h = .02\n",
    "x0_min, x0_max = np.min(x[:,0]) - 1, np.max(x[:,0]) + 1\n",
    "x1_min, x1_max = np.min(x[:,1]) - 1, np.max(x[:,1]) + 1\n",
    "xx0, xx1 = np.meshgrid(np.arange(x0_min, x0_max, h),\n",
    "                         np.arange(x1_min, x1_max, h))\n",
    "\n",
    "Z = tree3.predict((np.stack((xx0.ravel(),xx1.ravel())).transpose()))\n",
    "\n",
    "Z = Z.reshape(xx0.shape)\n",
    "cm = plt.cm.RdBu\n",
    "plt.contourf(xx0, xx1, Z, cmap=cm, alpha=.8)\n",
    "plt.scatter(x[:,0], x[:,1], c = y)\n"
   ]
  },
  {
   "cell_type": "code",
   "execution_count": 19,
   "metadata": {},
   "outputs": [
    {
     "name": "stdout",
     "output_type": "stream",
     "text": [
      "root created\n",
      "was pure at <__main__.Leaf object at 0x000001C5CC28FFC8>\n",
      "was pure at <__main__.Leaf object at 0x000001C5CC28FF88>\n",
      "was pure at <__main__.Leaf object at 0x000001C5CC28FF08>\n",
      "was pure at <__main__.Leaf object at 0x000001C5CC28FE88>\n",
      "was pure at <__main__.Leaf object at 0x000001C5CC28FE48>\n",
      "was pure at <__main__.Leaf object at 0x000001C5CC28FDC8>\n",
      "was pure at <__main__.Leaf object at 0x000001C5CC28FD88>\n",
      "1884024\n"
     ]
    },
    {
     "data": {
      "text/plain": [
       "<matplotlib.collections.PathCollection at 0x1c5cc2bc988>"
      ]
     },
     "execution_count": 19,
     "metadata": {},
     "output_type": "execute_result"
    },
    {
     "data": {
      "image/png": "[encoded data removed]",
      "text/plain": [
       "<Figure size 432x288 with 1 Axes>"
      ]
     },
     "metadata": {
      "needs_background": "light"
     },
     "output_type": "display_data"
    }
   ],
   "source": [
    "x, y = make_blobs(n_samples=100, cluster_std=3)\n",
    "\n",
    "tree = Tree(100)\n",
    "tree.train(x,y)\n",
    "\n",
    "\n",
    "h = .02\n",
    "x0_min, x0_max = np.min(x[:,0]) - 1, np.max(x[:,0]) + 1\n",
    "x1_min, x1_max = np.min(x[:,1]) - 1, np.max(x[:,1]) + 1\n",
    "xx0, xx1 = np.meshgrid(np.arange(x0_min, x0_max, h),\n",
    "                         np.arange(x1_min, x1_max, h))\n",
    "\n",
    "Z = tree.predict((np.stack((xx0.ravel(),xx1.ravel())).transpose()))\n",
    "\n",
    "Z = Z.reshape(xx0.shape)\n",
    "cm = plt.cm.RdBu\n",
    "plt.contourf(xx0, xx1, Z, cmap=cm, alpha=.8)\n",
    "plt.scatter(x[:,0], x[:,1], c = y)\n"
   ]
  },
  {
   "cell_type": "markdown",
   "metadata": {},
   "source": [
    "Постройте дерево максимальной глубины для своих случайных данных."
   ]
  }
 ],
 "metadata": {
  "kernelspec": {
   "display_name": "Python 3",
   "language": "python",
   "name": "python3"
  },
  "language_info": {
   "codemirror_mode": {
    "name": "ipython",
    "version": 3
   },
   "file_extension": ".py",
   "mimetype": "text/x-python",
   "name": "python",
   "nbconvert_exporter": "python",
   "pygments_lexer": "ipython3",
   "version": "3.7.4"
  }
 },
 "nbformat": 4,
 "nbformat_minor": 4
}
